{
 "cells": [
  {
   "cell_type": "code",
   "execution_count": 65,
   "metadata": {},
   "outputs": [],
   "source": [
    "import os\n",
    "import numpy as np\n",
    "import pandas as pd\n",
    "import matplotlib.pyplot as plt"
   ]
  },
  {
   "cell_type": "code",
   "execution_count": null,
   "metadata": {},
   "outputs": [],
   "source": [
    "data_dir = os.getcwd() + '/dataset/korean_unsmile_dataset/'\n",
    "train_data_file = 'unsmile_train_v1.0.tsv'\n",
    "test_data_file = 'unsmile_valid_v1.0.tsv'"
   ]
  },
  {
   "cell_type": "code",
   "execution_count": 54,
   "metadata": {},
   "outputs": [
    {
     "name": "stdout",
     "output_type": "stream",
     "text": [
      "number of original train data: 15005\n",
      "number of original test data: 3737\n"
     ]
    }
   ],
   "source": [
    "# number of original train and test data\n",
    "pd.set_option('display.max_colwidth', None)\n",
    "pd.set_option('display.max_rows', None)\n",
    "train_df = pd.read_csv(data_dir + train_data_file, sep='\\t')\n",
    "test_df = pd.read_csv(data_dir + test_data_file, sep='\\t')\n",
    "print(f'number of original train data: {len(train_df)}')\n",
    "print(f'number of original test data: {len(test_df)}')"
   ]
  },
  {
   "cell_type": "code",
   "execution_count": 57,
   "metadata": {},
   "outputs": [
    {
     "name": "stdout",
     "output_type": "stream",
     "text": [
      "number of data in merged dataframe, 18742\n",
      "after removing not labeled data, 18740\n"
     ]
    }
   ],
   "source": [
    "# concatenate train and test data\n",
    "merged_df = pd.concat([train_df, test_df], axis=0, ignore_index=True)\n",
    "print(f'number of data in merged dataframe, {len(merged_df)}')\n",
    "\n",
    "# remove data without label\n",
    "indexes = []\n",
    "for i in range(len(merged_df)):\n",
    "    data = merged_df.iloc[i]\n",
    "    if data[1:].sum() == 0:\n",
    "        indexes.append(i)\n",
    "\n",
    "merged_df.drop(indexes, inplace=True)\n",
    "merged_df.reset_index(drop=True, inplace=True)\n",
    "print(f'after removing not labeled data, {len(merged_df)}')\n",
    "# merged_df.tail()"
   ]
  },
  {
   "cell_type": "code",
   "execution_count": 48,
   "metadata": {},
   "outputs": [
    {
     "name": "stdout",
     "output_type": "stream",
     "text": [
      "the number of re-labeled data: 119\n"
     ]
    },
    {
     "data": {
      "text/html": [
       "<div>\n",
       "<style scoped>\n",
       "    .dataframe tbody tr th:only-of-type {\n",
       "        vertical-align: middle;\n",
       "    }\n",
       "\n",
       "    .dataframe tbody tr th {\n",
       "        vertical-align: top;\n",
       "    }\n",
       "\n",
       "    .dataframe thead th {\n",
       "        text-align: right;\n",
       "    }\n",
       "</style>\n",
       "<table border=\"1\" class=\"dataframe\">\n",
       "  <thead>\n",
       "    <tr style=\"text-align: right;\">\n",
       "      <th></th>\n",
       "      <th>index</th>\n",
       "      <th>label</th>\n",
       "    </tr>\n",
       "  </thead>\n",
       "  <tbody>\n",
       "    <tr>\n",
       "      <th>0</th>\n",
       "      <td>6495</td>\n",
       "      <td>1</td>\n",
       "    </tr>\n",
       "    <tr>\n",
       "      <th>1</th>\n",
       "      <td>7188</td>\n",
       "      <td>1</td>\n",
       "    </tr>\n",
       "    <tr>\n",
       "      <th>2</th>\n",
       "      <td>6088</td>\n",
       "      <td>1</td>\n",
       "    </tr>\n",
       "    <tr>\n",
       "      <th>3</th>\n",
       "      <td>13751</td>\n",
       "      <td>1</td>\n",
       "    </tr>\n",
       "    <tr>\n",
       "      <th>4</th>\n",
       "      <td>18417</td>\n",
       "      <td>1</td>\n",
       "    </tr>\n",
       "  </tbody>\n",
       "</table>\n",
       "</div>"
      ],
      "text/plain": [
       "   index  label\n",
       "0   6495      1\n",
       "1   7188      1\n",
       "2   6088      1\n",
       "3  13751      1\n",
       "4  18417      1"
      ]
     },
     "execution_count": 48,
     "metadata": {},
     "output_type": "execute_result"
    }
   ],
   "source": [
    "revise_df = pd.read_table('./re-labeling.txt', sep='\\s+', header=None, names=['index', 'label'])\n",
    "print(f'the number of re-labeled data: {len(revise_df)}')\n",
    "revise_df.head()"
   ]
  },
  {
   "cell_type": "code",
   "execution_count": 49,
   "metadata": {},
   "outputs": [
    {
     "data": {
      "text/plain": [
       "{0: '여성/가족',\n",
       " 1: '남성',\n",
       " 2: '성소수자',\n",
       " 3: '인종/국적',\n",
       " 4: '연령',\n",
       " 5: '지역',\n",
       " 6: '종교',\n",
       " 7: '기타 혐오',\n",
       " 8: '악플/욕설',\n",
       " 9: 'clean',\n",
       " 10: '개인지칭'}"
      ]
     },
     "execution_count": 49,
     "metadata": {},
     "output_type": "execute_result"
    }
   ],
   "source": [
    "categories = merged_df.columns[1:].to_list()\n",
    "to_category = {}\n",
    "\n",
    "for i in range(len(categories)):\n",
    "    to_category[i] = categories[i]\n",
    "\n",
    "to_category"
   ]
  },
  {
   "cell_type": "code",
   "execution_count": 60,
   "metadata": {},
   "outputs": [],
   "source": [
    "indexes = revise_df['index'].values\n",
    "labels = revise_df['label'].values\n",
    "\n",
    "# one hot re-labeling\n",
    "for i, label in zip(indexes, labels):\n",
    "    for key in to_category:\n",
    "        if key == label:\n",
    "            merged_df.loc[i, to_category[key]] = 1\n",
    "        else:\n",
    "            merged_df.loc[i, to_category[key]] = 0"
   ]
  },
  {
   "cell_type": "code",
   "execution_count": 62,
   "metadata": {},
   "outputs": [],
   "source": [
    "boundary = 15003\n",
    "processed_train_df = merged_df.iloc[:boundary]\n",
    "processed_test_df = merged_df.iloc[boundary:]\n",
    "# print(processed_train_df.sum()[1:])\n",
    "# print()\n",
    "# print(train_df.sum()[1:])"
   ]
  },
  {
   "cell_type": "code",
   "execution_count": 63,
   "metadata": {},
   "outputs": [
    {
     "data": {
      "image/png": "[encoded data removed]",
      "text/plain": [
       "<Figure size 1152x360 with 2 Axes>"
      ]
     },
     "metadata": {
      "needs_background": "light"
     },
     "output_type": "display_data"
    },
    {
     "name": "stdout",
     "output_type": "stream",
     "text": [
      "-train\n",
      "여성/가족   남성   성소수자   인종/국적   연령   지역   종교   기타 혐오   악플/욕설   clean   개인지칭   \n",
      "1591    1352    1140    1718    604    1050    1195    562    3139    3750    312    \n",
      "-test\n",
      "여성/가족   남성   성소수자   인종/국적   연령   지역   종교   기타 혐오   악플/욕설   clean   개인지칭   \n",
      "393     340     281     422     146     261     294     134     770     944     74     "
     ]
    }
   ],
   "source": [
    "# data distribution after cleaning\n",
    "categories = ['female', 'male', 'minor', 'race', 'age', 'region', 'religion', 'extra', 'curse', 'clean', 'individual']\n",
    "\n",
    "train_sum = processed_train_df.sum()[1:]\n",
    "x1 = range(1, 2 * len(train_sum), 2)\n",
    "y1 = train_sum\n",
    "\n",
    "test_sum = processed_test_df.sum()[1:]\n",
    "x2 = range(1, 2 * len(test_sum), 2)\n",
    "y2 = test_sum\n",
    "\n",
    "plt.figure(figsize=(16, 5))\n",
    "plt.subplot(1, 2, 1)\n",
    "plt.bar(x1, y1)\n",
    "plt.title('Train')\n",
    "plt.xticks(x1, categories)\n",
    "\n",
    "plt.subplot(1, 2, 2)\n",
    "plt.bar(x2, y2)\n",
    "plt.title('Test')\n",
    "plt.xticks(x2, categories)\n",
    "\n",
    "plt.tight_layout()\n",
    "plt.show()\n",
    "\n",
    "print('-train')\n",
    "for i in y1.index:\n",
    "  print(f'{i}   ', end='')\n",
    "print()\n",
    "for i in y1:\n",
    "  print(f'{i}    ', end='')\n",
    "\n",
    "print()\n",
    "\n",
    "print('-test')\n",
    "for i in y2.index:\n",
    "  print(f'{i}   ', end='')\n",
    "print()\n",
    "for i in y2:\n",
    "  print(f'{i}     ', end='')"
   ]
  },
  {
   "cell_type": "code",
   "execution_count": 64,
   "metadata": {},
   "outputs": [],
   "source": [
    "# save re-labeled data\n",
    "processed_train_df.to_csv(data_dir + 'processed_unsmile_train_v1.0.tsv', sep='\\t', header=True, index=False)\n",
    "processed_test_df.to_csv(data_dir + 'processed_unsmile_valid_v1.0.tsv', sep='\\t', header=True, index=False)"
   ]
  }
 ],
 "metadata": {
  "kernelspec": {
   "display_name": "Python 3",
   "language": "python",
   "name": "python3"
  },
  "language_info": {
   "codemirror_mode": {
    "name": "ipython",
    "version": 3
   },
   "file_extension": ".py",
   "mimetype": "text/x-python",
   "name": "python",
   "nbconvert_exporter": "python",
   "pygments_lexer": "ipython3",
   "version": "3.6.9"
  }
 },
 "nbformat": 4,
 "nbformat_minor": 4
}
